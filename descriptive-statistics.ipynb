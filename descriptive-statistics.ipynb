{
 "cells": [
  {
   "cell_type": "markdown",
   "id": "8a3abb11",
   "metadata": {
    "papermill": {
     "duration": 0.008281,
     "end_time": "2025-05-29T16:22:22.273462",
     "exception": false,
     "start_time": "2025-05-29T16:22:22.265181",
     "status": "completed"
    },
    "tags": []
   },
   "source": [
    "# Descriptive Statistics   . \n",
    "\n",
    "In this notebook, I will perform descriptive statistics, which is a branch of statistics that focuses on describing, summarizing, interpreting, and presenting data, enabling us to have a deeper understanding of the data at hand.\n",
    "\n",
    "**About the dataset**\n",
    "In this project I leverage Social media vs productivity dataset which explores how daily digital habits— including social media usage,screen time, and notification exposure, relate to individual productivity, stress, and well-being."
   ]
  },
  {
   "cell_type": "code",
   "execution_count": 1,
   "id": "cb8187a2",
   "metadata": {
    "_cell_guid": "b1076dfc-b9ad-4769-8c92-a6c4dae69d19",
    "_uuid": "8f2839f25d086af736a60e9eeb907d3b93b6e0e5",
    "execution": {
     "iopub.execute_input": "2025-05-29T16:22:22.290304Z",
     "iopub.status.busy": "2025-05-29T16:22:22.289886Z",
     "iopub.status.idle": "2025-05-29T16:22:26.546840Z",
     "shell.execute_reply": "2025-05-29T16:22:26.545915Z"
    },
    "papermill": {
     "duration": 4.267512,
     "end_time": "2025-05-29T16:22:26.548802",
     "exception": false,
     "start_time": "2025-05-29T16:22:22.281290",
     "status": "completed"
    },
    "tags": []
   },
   "outputs": [],
   "source": [
    "#Import python libraries to perform descriptive statistics\n",
    "import pandas as pd\n",
    "import numpy as np\n",
    "import matplotlib.pyplot as plt\n",
    "%matplotlib inline\n",
    "import seaborn as sns"
   ]
  },
  {
   "cell_type": "code",
   "execution_count": 2,
   "id": "e62fa4be",
   "metadata": {
    "execution": {
     "iopub.execute_input": "2025-05-29T16:22:26.565542Z",
     "iopub.status.busy": "2025-05-29T16:22:26.565084Z",
     "iopub.status.idle": "2025-05-29T16:22:26.793672Z",
     "shell.execute_reply": "2025-05-29T16:22:26.792365Z"
    },
    "papermill": {
     "duration": 0.238703,
     "end_time": "2025-05-29T16:22:26.795472",
     "exception": false,
     "start_time": "2025-05-29T16:22:26.556769",
     "status": "completed"
    },
    "tags": []
   },
   "outputs": [
    {
     "name": "stderr",
     "output_type": "stream",
     "text": [
      "/usr/local/lib/python3.11/dist-packages/pandas/io/formats/format.py:1458: RuntimeWarning: invalid value encountered in greater\n",
      "  has_large_values = (abs_vals > 1e6).any()\n",
      "/usr/local/lib/python3.11/dist-packages/pandas/io/formats/format.py:1459: RuntimeWarning: invalid value encountered in less\n",
      "  has_small_values = ((abs_vals < 10 ** (-self.digits)) & (abs_vals > 0)).any()\n",
      "/usr/local/lib/python3.11/dist-packages/pandas/io/formats/format.py:1459: RuntimeWarning: invalid value encountered in greater\n",
      "  has_small_values = ((abs_vals < 10 ** (-self.digits)) & (abs_vals > 0)).any()\n"
     ]
    },
    {
     "data": {
      "text/html": [
       "<div>\n",
       "<style scoped>\n",
       "    .dataframe tbody tr th:only-of-type {\n",
       "        vertical-align: middle;\n",
       "    }\n",
       "\n",
       "    .dataframe tbody tr th {\n",
       "        vertical-align: top;\n",
       "    }\n",
       "\n",
       "    .dataframe thead th {\n",
       "        text-align: right;\n",
       "    }\n",
       "</style>\n",
       "<table border=\"1\" class=\"dataframe\">\n",
       "  <thead>\n",
       "    <tr style=\"text-align: right;\">\n",
       "      <th></th>\n",
       "      <th>age</th>\n",
       "      <th>gender</th>\n",
       "      <th>job_type</th>\n",
       "      <th>daily_social_media_time</th>\n",
       "      <th>social_platform_preference</th>\n",
       "      <th>number_of_notifications</th>\n",
       "      <th>work_hours_per_day</th>\n",
       "      <th>perceived_productivity_score</th>\n",
       "      <th>actual_productivity_score</th>\n",
       "      <th>stress_level</th>\n",
       "      <th>sleep_hours</th>\n",
       "      <th>screen_time_before_sleep</th>\n",
       "      <th>breaks_during_work</th>\n",
       "      <th>uses_focus_apps</th>\n",
       "      <th>has_digital_wellbeing_enabled</th>\n",
       "      <th>coffee_consumption_per_day</th>\n",
       "      <th>days_feeling_burnout_per_month</th>\n",
       "      <th>weekly_offline_hours</th>\n",
       "      <th>job_satisfaction_score</th>\n",
       "    </tr>\n",
       "  </thead>\n",
       "  <tbody>\n",
       "    <tr>\n",
       "      <th>0</th>\n",
       "      <td>56</td>\n",
       "      <td>Male</td>\n",
       "      <td>Unemployed</td>\n",
       "      <td>4.180940</td>\n",
       "      <td>Facebook</td>\n",
       "      <td>61</td>\n",
       "      <td>6.753558</td>\n",
       "      <td>8.040464</td>\n",
       "      <td>7.291555</td>\n",
       "      <td>4.0</td>\n",
       "      <td>5.116546</td>\n",
       "      <td>0.419102</td>\n",
       "      <td>8</td>\n",
       "      <td>False</td>\n",
       "      <td>False</td>\n",
       "      <td>4</td>\n",
       "      <td>11</td>\n",
       "      <td>21.927072</td>\n",
       "      <td>6.336688</td>\n",
       "    </tr>\n",
       "    <tr>\n",
       "      <th>1</th>\n",
       "      <td>46</td>\n",
       "      <td>Male</td>\n",
       "      <td>Health</td>\n",
       "      <td>3.249603</td>\n",
       "      <td>Twitter</td>\n",
       "      <td>59</td>\n",
       "      <td>9.169296</td>\n",
       "      <td>5.063368</td>\n",
       "      <td>5.165093</td>\n",
       "      <td>7.0</td>\n",
       "      <td>5.103897</td>\n",
       "      <td>0.671519</td>\n",
       "      <td>7</td>\n",
       "      <td>True</td>\n",
       "      <td>True</td>\n",
       "      <td>2</td>\n",
       "      <td>25</td>\n",
       "      <td>0.000000</td>\n",
       "      <td>3.412427</td>\n",
       "    </tr>\n",
       "    <tr>\n",
       "      <th>2</th>\n",
       "      <td>32</td>\n",
       "      <td>Male</td>\n",
       "      <td>Finance</td>\n",
       "      <td>NaN</td>\n",
       "      <td>Twitter</td>\n",
       "      <td>57</td>\n",
       "      <td>7.910952</td>\n",
       "      <td>3.861762</td>\n",
       "      <td>3.474053</td>\n",
       "      <td>4.0</td>\n",
       "      <td>8.583222</td>\n",
       "      <td>0.624378</td>\n",
       "      <td>0</td>\n",
       "      <td>True</td>\n",
       "      <td>False</td>\n",
       "      <td>3</td>\n",
       "      <td>17</td>\n",
       "      <td>10.322044</td>\n",
       "      <td>2.474944</td>\n",
       "    </tr>\n",
       "    <tr>\n",
       "      <th>3</th>\n",
       "      <td>60</td>\n",
       "      <td>Female</td>\n",
       "      <td>Unemployed</td>\n",
       "      <td>NaN</td>\n",
       "      <td>Facebook</td>\n",
       "      <td>59</td>\n",
       "      <td>6.355027</td>\n",
       "      <td>2.916331</td>\n",
       "      <td>1.774869</td>\n",
       "      <td>6.0</td>\n",
       "      <td>6.052984</td>\n",
       "      <td>1.204540</td>\n",
       "      <td>1</td>\n",
       "      <td>False</td>\n",
       "      <td>False</td>\n",
       "      <td>0</td>\n",
       "      <td>4</td>\n",
       "      <td>23.876616</td>\n",
       "      <td>1.733670</td>\n",
       "    </tr>\n",
       "    <tr>\n",
       "      <th>4</th>\n",
       "      <td>25</td>\n",
       "      <td>Male</td>\n",
       "      <td>IT</td>\n",
       "      <td>NaN</td>\n",
       "      <td>Telegram</td>\n",
       "      <td>66</td>\n",
       "      <td>6.214096</td>\n",
       "      <td>8.868753</td>\n",
       "      <td>NaN</td>\n",
       "      <td>7.0</td>\n",
       "      <td>5.405706</td>\n",
       "      <td>1.876254</td>\n",
       "      <td>1</td>\n",
       "      <td>False</td>\n",
       "      <td>True</td>\n",
       "      <td>1</td>\n",
       "      <td>30</td>\n",
       "      <td>10.653519</td>\n",
       "      <td>9.693060</td>\n",
       "    </tr>\n",
       "  </tbody>\n",
       "</table>\n",
       "</div>"
      ],
      "text/plain": [
       "   age  gender    job_type  daily_social_media_time  \\\n",
       "0   56    Male  Unemployed                 4.180940   \n",
       "1   46    Male      Health                 3.249603   \n",
       "2   32    Male     Finance                      NaN   \n",
       "3   60  Female  Unemployed                      NaN   \n",
       "4   25    Male          IT                      NaN   \n",
       "\n",
       "  social_platform_preference  number_of_notifications  work_hours_per_day  \\\n",
       "0                   Facebook                       61            6.753558   \n",
       "1                    Twitter                       59            9.169296   \n",
       "2                    Twitter                       57            7.910952   \n",
       "3                   Facebook                       59            6.355027   \n",
       "4                   Telegram                       66            6.214096   \n",
       "\n",
       "   perceived_productivity_score  actual_productivity_score  stress_level  \\\n",
       "0                      8.040464                   7.291555           4.0   \n",
       "1                      5.063368                   5.165093           7.0   \n",
       "2                      3.861762                   3.474053           4.0   \n",
       "3                      2.916331                   1.774869           6.0   \n",
       "4                      8.868753                        NaN           7.0   \n",
       "\n",
       "   sleep_hours  screen_time_before_sleep  breaks_during_work  uses_focus_apps  \\\n",
       "0     5.116546                  0.419102                   8            False   \n",
       "1     5.103897                  0.671519                   7             True   \n",
       "2     8.583222                  0.624378                   0             True   \n",
       "3     6.052984                  1.204540                   1            False   \n",
       "4     5.405706                  1.876254                   1            False   \n",
       "\n",
       "   has_digital_wellbeing_enabled  coffee_consumption_per_day  \\\n",
       "0                          False                           4   \n",
       "1                           True                           2   \n",
       "2                          False                           3   \n",
       "3                          False                           0   \n",
       "4                           True                           1   \n",
       "\n",
       "   days_feeling_burnout_per_month  weekly_offline_hours  \\\n",
       "0                              11             21.927072   \n",
       "1                              25              0.000000   \n",
       "2                              17             10.322044   \n",
       "3                               4             23.876616   \n",
       "4                              30             10.653519   \n",
       "\n",
       "   job_satisfaction_score  \n",
       "0                6.336688  \n",
       "1                3.412427  \n",
       "2                2.474944  \n",
       "3                1.733670  \n",
       "4                9.693060  "
      ]
     },
     "execution_count": 2,
     "metadata": {},
     "output_type": "execute_result"
    }
   ],
   "source": [
    "#Load the dataset\n",
    "data = pd.read_csv('/kaggle/input/social-media-vs-productivity/social_media_vs_productivity.csv')\n",
    "data.head()"
   ]
  },
  {
   "cell_type": "code",
   "execution_count": 3,
   "id": "63a8cc8c",
   "metadata": {
    "execution": {
     "iopub.execute_input": "2025-05-29T16:22:26.813724Z",
     "iopub.status.busy": "2025-05-29T16:22:26.813091Z",
     "iopub.status.idle": "2025-05-29T16:22:26.828900Z",
     "shell.execute_reply": "2025-05-29T16:22:26.827938Z"
    },
    "papermill": {
     "duration": 0.026499,
     "end_time": "2025-05-29T16:22:26.830539",
     "exception": false,
     "start_time": "2025-05-29T16:22:26.804040",
     "status": "completed"
    },
    "tags": []
   },
   "outputs": [
    {
     "data": {
      "text/plain": [
       "age                                  0\n",
       "gender                               0\n",
       "job_type                             0\n",
       "daily_social_media_time           2765\n",
       "social_platform_preference           0\n",
       "number_of_notifications              0\n",
       "work_hours_per_day                   0\n",
       "perceived_productivity_score      1614\n",
       "actual_productivity_score         2365\n",
       "stress_level                      1904\n",
       "sleep_hours                       2598\n",
       "screen_time_before_sleep          2211\n",
       "breaks_during_work                   0\n",
       "uses_focus_apps                      0\n",
       "has_digital_wellbeing_enabled        0\n",
       "coffee_consumption_per_day           0\n",
       "days_feeling_burnout_per_month       0\n",
       "weekly_offline_hours                 0\n",
       "job_satisfaction_score            2730\n",
       "dtype: int64"
      ]
     },
     "execution_count": 3,
     "metadata": {},
     "output_type": "execute_result"
    }
   ],
   "source": [
    "#Check the # of missing values per column\n",
    "No_of_missing_vals = data.isnull().sum()\n",
    "No_of_missing_vals"
   ]
  },
  {
   "cell_type": "code",
   "execution_count": 4,
   "id": "8208c56f",
   "metadata": {
    "execution": {
     "iopub.execute_input": "2025-05-29T16:22:26.847785Z",
     "iopub.status.busy": "2025-05-29T16:22:26.847425Z",
     "iopub.status.idle": "2025-05-29T16:22:26.853835Z",
     "shell.execute_reply": "2025-05-29T16:22:26.852567Z"
    },
    "papermill": {
     "duration": 0.016719,
     "end_time": "2025-05-29T16:22:26.855370",
     "exception": false,
     "start_time": "2025-05-29T16:22:26.838651",
     "status": "completed"
    },
    "tags": []
   },
   "outputs": [
    {
     "name": "stdout",
     "output_type": "stream",
     "text": [
      "2.8398245614035087\n"
     ]
    }
   ],
   "source": [
    "#Total missing values\n",
    "No_of_cells = np.product(data.shape)\n",
    "total_missing = No_of_missing_vals.sum()\n",
    "\n",
    "#Percentage of missing data\n",
    "percentage = (total_missing/No_of_cells)*100\n",
    "print(percentage)"
   ]
  },
  {
   "cell_type": "markdown",
   "id": "121937a1",
   "metadata": {
    "papermill": {
     "duration": 0.007673,
     "end_time": "2025-05-29T16:22:26.871536",
     "exception": false,
     "start_time": "2025-05-29T16:22:26.863863",
     "status": "completed"
    },
    "tags": []
   },
   "source": [
    "In the next step, I am going to take a closer look at some of the columns with missing values and try to figure out what might be the cause of missing data."
   ]
  },
  {
   "cell_type": "code",
   "execution_count": 5,
   "id": "672db8ea",
   "metadata": {
    "execution": {
     "iopub.execute_input": "2025-05-29T16:22:26.888617Z",
     "iopub.status.busy": "2025-05-29T16:22:26.888259Z",
     "iopub.status.idle": "2025-05-29T16:22:26.921862Z",
     "shell.execute_reply": "2025-05-29T16:22:26.920949Z"
    },
    "papermill": {
     "duration": 0.044209,
     "end_time": "2025-05-29T16:22:26.923570",
     "exception": false,
     "start_time": "2025-05-29T16:22:26.879361",
     "status": "completed"
    },
    "tags": []
   },
   "outputs": [
    {
     "data": {
      "text/html": [
       "<div>\n",
       "<style scoped>\n",
       "    .dataframe tbody tr th:only-of-type {\n",
       "        vertical-align: middle;\n",
       "    }\n",
       "\n",
       "    .dataframe tbody tr th {\n",
       "        vertical-align: top;\n",
       "    }\n",
       "\n",
       "    .dataframe thead th {\n",
       "        text-align: right;\n",
       "    }\n",
       "</style>\n",
       "<table border=\"1\" class=\"dataframe\">\n",
       "  <thead>\n",
       "    <tr style=\"text-align: right;\">\n",
       "      <th></th>\n",
       "      <th>age</th>\n",
       "      <th>gender</th>\n",
       "      <th>job_type</th>\n",
       "      <th>daily_social_media_time</th>\n",
       "      <th>social_platform_preference</th>\n",
       "      <th>number_of_notifications</th>\n",
       "      <th>work_hours_per_day</th>\n",
       "      <th>perceived_productivity_score</th>\n",
       "      <th>actual_productivity_score</th>\n",
       "      <th>stress_level</th>\n",
       "      <th>sleep_hours</th>\n",
       "      <th>screen_time_before_sleep</th>\n",
       "      <th>breaks_during_work</th>\n",
       "      <th>uses_focus_apps</th>\n",
       "      <th>has_digital_wellbeing_enabled</th>\n",
       "      <th>coffee_consumption_per_day</th>\n",
       "      <th>days_feeling_burnout_per_month</th>\n",
       "      <th>weekly_offline_hours</th>\n",
       "      <th>job_satisfaction_score</th>\n",
       "    </tr>\n",
       "  </thead>\n",
       "  <tbody>\n",
       "    <tr>\n",
       "      <th>0</th>\n",
       "      <td>56</td>\n",
       "      <td>Male</td>\n",
       "      <td>Unemployed</td>\n",
       "      <td>4.180940</td>\n",
       "      <td>Facebook</td>\n",
       "      <td>61</td>\n",
       "      <td>6.753558</td>\n",
       "      <td>8.040464</td>\n",
       "      <td>7.291555</td>\n",
       "      <td>4.0</td>\n",
       "      <td>5.116546</td>\n",
       "      <td>0.419102</td>\n",
       "      <td>8</td>\n",
       "      <td>False</td>\n",
       "      <td>False</td>\n",
       "      <td>4</td>\n",
       "      <td>11</td>\n",
       "      <td>21.927072</td>\n",
       "      <td>6.336688</td>\n",
       "    </tr>\n",
       "    <tr>\n",
       "      <th>1</th>\n",
       "      <td>46</td>\n",
       "      <td>Male</td>\n",
       "      <td>Health</td>\n",
       "      <td>3.249603</td>\n",
       "      <td>Twitter</td>\n",
       "      <td>59</td>\n",
       "      <td>9.169296</td>\n",
       "      <td>5.063368</td>\n",
       "      <td>5.165093</td>\n",
       "      <td>7.0</td>\n",
       "      <td>5.103897</td>\n",
       "      <td>0.671519</td>\n",
       "      <td>7</td>\n",
       "      <td>True</td>\n",
       "      <td>True</td>\n",
       "      <td>2</td>\n",
       "      <td>25</td>\n",
       "      <td>0.000000</td>\n",
       "      <td>3.412427</td>\n",
       "    </tr>\n",
       "    <tr>\n",
       "      <th>6</th>\n",
       "      <td>56</td>\n",
       "      <td>Female</td>\n",
       "      <td>Unemployed</td>\n",
       "      <td>4.381070</td>\n",
       "      <td>TikTok</td>\n",
       "      <td>60</td>\n",
       "      <td>3.902309</td>\n",
       "      <td>6.420989</td>\n",
       "      <td>5.976408</td>\n",
       "      <td>7.0</td>\n",
       "      <td>7.549849</td>\n",
       "      <td>2.252624</td>\n",
       "      <td>4</td>\n",
       "      <td>False</td>\n",
       "      <td>False</td>\n",
       "      <td>4</td>\n",
       "      <td>20</td>\n",
       "      <td>24.084905</td>\n",
       "      <td>5.501373</td>\n",
       "    </tr>\n",
       "    <tr>\n",
       "      <th>7</th>\n",
       "      <td>36</td>\n",
       "      <td>Female</td>\n",
       "      <td>Education</td>\n",
       "      <td>4.089168</td>\n",
       "      <td>Twitter</td>\n",
       "      <td>49</td>\n",
       "      <td>6.560467</td>\n",
       "      <td>2.681830</td>\n",
       "      <td>2.446927</td>\n",
       "      <td>4.0</td>\n",
       "      <td>6.325507</td>\n",
       "      <td>0.747998</td>\n",
       "      <td>2</td>\n",
       "      <td>False</td>\n",
       "      <td>False</td>\n",
       "      <td>4</td>\n",
       "      <td>29</td>\n",
       "      <td>8.419648</td>\n",
       "      <td>3.444376</td>\n",
       "    </tr>\n",
       "    <tr>\n",
       "      <th>10</th>\n",
       "      <td>28</td>\n",
       "      <td>Male</td>\n",
       "      <td>IT</td>\n",
       "      <td>3.341559</td>\n",
       "      <td>Twitter</td>\n",
       "      <td>57</td>\n",
       "      <td>11.022035</td>\n",
       "      <td>8.940636</td>\n",
       "      <td>7.983252</td>\n",
       "      <td>4.0</td>\n",
       "      <td>3.952547</td>\n",
       "      <td>1.028640</td>\n",
       "      <td>5</td>\n",
       "      <td>True</td>\n",
       "      <td>True</td>\n",
       "      <td>1</td>\n",
       "      <td>3</td>\n",
       "      <td>13.514515</td>\n",
       "      <td>9.414637</td>\n",
       "    </tr>\n",
       "    <tr>\n",
       "      <th>...</th>\n",
       "      <td>...</td>\n",
       "      <td>...</td>\n",
       "      <td>...</td>\n",
       "      <td>...</td>\n",
       "      <td>...</td>\n",
       "      <td>...</td>\n",
       "      <td>...</td>\n",
       "      <td>...</td>\n",
       "      <td>...</td>\n",
       "      <td>...</td>\n",
       "      <td>...</td>\n",
       "      <td>...</td>\n",
       "      <td>...</td>\n",
       "      <td>...</td>\n",
       "      <td>...</td>\n",
       "      <td>...</td>\n",
       "      <td>...</td>\n",
       "      <td>...</td>\n",
       "      <td>...</td>\n",
       "    </tr>\n",
       "    <tr>\n",
       "      <th>29988</th>\n",
       "      <td>34</td>\n",
       "      <td>Male</td>\n",
       "      <td>IT</td>\n",
       "      <td>3.562316</td>\n",
       "      <td>Twitter</td>\n",
       "      <td>59</td>\n",
       "      <td>7.685305</td>\n",
       "      <td>3.233504</td>\n",
       "      <td>2.932739</td>\n",
       "      <td>9.0</td>\n",
       "      <td>5.689819</td>\n",
       "      <td>2.333739</td>\n",
       "      <td>2</td>\n",
       "      <td>False</td>\n",
       "      <td>False</td>\n",
       "      <td>1</td>\n",
       "      <td>30</td>\n",
       "      <td>3.687407</td>\n",
       "      <td>2.123211</td>\n",
       "    </tr>\n",
       "    <tr>\n",
       "      <th>29992</th>\n",
       "      <td>44</td>\n",
       "      <td>Female</td>\n",
       "      <td>Unemployed</td>\n",
       "      <td>1.648825</td>\n",
       "      <td>TikTok</td>\n",
       "      <td>39</td>\n",
       "      <td>6.547262</td>\n",
       "      <td>5.900434</td>\n",
       "      <td>5.164050</td>\n",
       "      <td>9.0</td>\n",
       "      <td>8.803968</td>\n",
       "      <td>0.305591</td>\n",
       "      <td>9</td>\n",
       "      <td>True</td>\n",
       "      <td>False</td>\n",
       "      <td>2</td>\n",
       "      <td>1</td>\n",
       "      <td>24.743560</td>\n",
       "      <td>6.073588</td>\n",
       "    </tr>\n",
       "    <tr>\n",
       "      <th>29996</th>\n",
       "      <td>39</td>\n",
       "      <td>Male</td>\n",
       "      <td>Health</td>\n",
       "      <td>4.437784</td>\n",
       "      <td>Instagram</td>\n",
       "      <td>46</td>\n",
       "      <td>4.692862</td>\n",
       "      <td>8.133213</td>\n",
       "      <td>6.659294</td>\n",
       "      <td>8.0</td>\n",
       "      <td>3.045393</td>\n",
       "      <td>0.148936</td>\n",
       "      <td>3</td>\n",
       "      <td>False</td>\n",
       "      <td>False</td>\n",
       "      <td>1</td>\n",
       "      <td>29</td>\n",
       "      <td>4.111370</td>\n",
       "      <td>6.155613</td>\n",
       "    </tr>\n",
       "    <tr>\n",
       "      <th>29997</th>\n",
       "      <td>42</td>\n",
       "      <td>Male</td>\n",
       "      <td>Education</td>\n",
       "      <td>17.724981</td>\n",
       "      <td>TikTok</td>\n",
       "      <td>64</td>\n",
       "      <td>10.915036</td>\n",
       "      <td>8.611005</td>\n",
       "      <td>8.658912</td>\n",
       "      <td>5.0</td>\n",
       "      <td>5.491520</td>\n",
       "      <td>1.224296</td>\n",
       "      <td>10</td>\n",
       "      <td>False</td>\n",
       "      <td>False</td>\n",
       "      <td>1</td>\n",
       "      <td>2</td>\n",
       "      <td>1.888315</td>\n",
       "      <td>6.285237</td>\n",
       "    </tr>\n",
       "    <tr>\n",
       "      <th>29998</th>\n",
       "      <td>20</td>\n",
       "      <td>Female</td>\n",
       "      <td>Education</td>\n",
       "      <td>3.796634</td>\n",
       "      <td>Instagram</td>\n",
       "      <td>56</td>\n",
       "      <td>6.937410</td>\n",
       "      <td>7.767076</td>\n",
       "      <td>6.895583</td>\n",
       "      <td>8.0</td>\n",
       "      <td>6.816069</td>\n",
       "      <td>0.234483</td>\n",
       "      <td>1</td>\n",
       "      <td>False</td>\n",
       "      <td>False</td>\n",
       "      <td>2</td>\n",
       "      <td>9</td>\n",
       "      <td>12.511871</td>\n",
       "      <td>7.854711</td>\n",
       "    </tr>\n",
       "  </tbody>\n",
       "</table>\n",
       "<p>17074 rows × 19 columns</p>\n",
       "</div>"
      ],
      "text/plain": [
       "       age  gender    job_type  daily_social_media_time  \\\n",
       "0       56    Male  Unemployed                 4.180940   \n",
       "1       46    Male      Health                 3.249603   \n",
       "6       56  Female  Unemployed                 4.381070   \n",
       "7       36  Female   Education                 4.089168   \n",
       "10      28    Male          IT                 3.341559   \n",
       "...    ...     ...         ...                      ...   \n",
       "29988   34    Male          IT                 3.562316   \n",
       "29992   44  Female  Unemployed                 1.648825   \n",
       "29996   39    Male      Health                 4.437784   \n",
       "29997   42    Male   Education                17.724981   \n",
       "29998   20  Female   Education                 3.796634   \n",
       "\n",
       "      social_platform_preference  number_of_notifications  work_hours_per_day  \\\n",
       "0                       Facebook                       61            6.753558   \n",
       "1                        Twitter                       59            9.169296   \n",
       "6                         TikTok                       60            3.902309   \n",
       "7                        Twitter                       49            6.560467   \n",
       "10                       Twitter                       57           11.022035   \n",
       "...                          ...                      ...                 ...   \n",
       "29988                    Twitter                       59            7.685305   \n",
       "29992                     TikTok                       39            6.547262   \n",
       "29996                  Instagram                       46            4.692862   \n",
       "29997                     TikTok                       64           10.915036   \n",
       "29998                  Instagram                       56            6.937410   \n",
       "\n",
       "       perceived_productivity_score  actual_productivity_score  stress_level  \\\n",
       "0                          8.040464                   7.291555           4.0   \n",
       "1                          5.063368                   5.165093           7.0   \n",
       "6                          6.420989                   5.976408           7.0   \n",
       "7                          2.681830                   2.446927           4.0   \n",
       "10                         8.940636                   7.983252           4.0   \n",
       "...                             ...                        ...           ...   \n",
       "29988                      3.233504                   2.932739           9.0   \n",
       "29992                      5.900434                   5.164050           9.0   \n",
       "29996                      8.133213                   6.659294           8.0   \n",
       "29997                      8.611005                   8.658912           5.0   \n",
       "29998                      7.767076                   6.895583           8.0   \n",
       "\n",
       "       sleep_hours  screen_time_before_sleep  breaks_during_work  \\\n",
       "0         5.116546                  0.419102                   8   \n",
       "1         5.103897                  0.671519                   7   \n",
       "6         7.549849                  2.252624                   4   \n",
       "7         6.325507                  0.747998                   2   \n",
       "10        3.952547                  1.028640                   5   \n",
       "...            ...                       ...                 ...   \n",
       "29988     5.689819                  2.333739                   2   \n",
       "29992     8.803968                  0.305591                   9   \n",
       "29996     3.045393                  0.148936                   3   \n",
       "29997     5.491520                  1.224296                  10   \n",
       "29998     6.816069                  0.234483                   1   \n",
       "\n",
       "       uses_focus_apps  has_digital_wellbeing_enabled  \\\n",
       "0                False                          False   \n",
       "1                 True                           True   \n",
       "6                False                          False   \n",
       "7                False                          False   \n",
       "10                True                           True   \n",
       "...                ...                            ...   \n",
       "29988            False                          False   \n",
       "29992             True                          False   \n",
       "29996            False                          False   \n",
       "29997            False                          False   \n",
       "29998            False                          False   \n",
       "\n",
       "       coffee_consumption_per_day  days_feeling_burnout_per_month  \\\n",
       "0                               4                              11   \n",
       "1                               2                              25   \n",
       "6                               4                              20   \n",
       "7                               4                              29   \n",
       "10                              1                               3   \n",
       "...                           ...                             ...   \n",
       "29988                           1                              30   \n",
       "29992                           2                               1   \n",
       "29996                           1                              29   \n",
       "29997                           1                               2   \n",
       "29998                           2                               9   \n",
       "\n",
       "       weekly_offline_hours  job_satisfaction_score  \n",
       "0                 21.927072                6.336688  \n",
       "1                  0.000000                3.412427  \n",
       "6                 24.084905                5.501373  \n",
       "7                  8.419648                3.444376  \n",
       "10                13.514515                9.414637  \n",
       "...                     ...                     ...  \n",
       "29988              3.687407                2.123211  \n",
       "29992             24.743560                6.073588  \n",
       "29996              4.111370                6.155613  \n",
       "29997              1.888315                6.285237  \n",
       "29998             12.511871                7.854711  \n",
       "\n",
       "[17074 rows x 19 columns]"
      ]
     },
     "execution_count": 5,
     "metadata": {},
     "output_type": "execute_result"
    }
   ],
   "source": [
    "#Remove rows with missing values\n",
    "data1 = data.dropna()\n",
    "data1"
   ]
  },
  {
   "cell_type": "code",
   "execution_count": 6,
   "id": "68ba1aea",
   "metadata": {
    "execution": {
     "iopub.execute_input": "2025-05-29T16:22:26.942673Z",
     "iopub.status.busy": "2025-05-29T16:22:26.942295Z",
     "iopub.status.idle": "2025-05-29T16:22:26.985042Z",
     "shell.execute_reply": "2025-05-29T16:22:26.983914Z"
    },
    "papermill": {
     "duration": 0.05381,
     "end_time": "2025-05-29T16:22:26.986594",
     "exception": false,
     "start_time": "2025-05-29T16:22:26.932784",
     "status": "completed"
    },
    "tags": []
   },
   "outputs": [
    {
     "name": "stdout",
     "output_type": "stream",
     "text": [
      "Empty DataFrame\n",
      "Columns: [age, gender, job_type, daily_social_media_time, social_platform_preference, number_of_notifications, work_hours_per_day, perceived_productivity_score, actual_productivity_score, stress_level, sleep_hours, screen_time_before_sleep, breaks_during_work, uses_focus_apps, has_digital_wellbeing_enabled, coffee_consumption_per_day, days_feeling_burnout_per_month, weekly_offline_hours, job_satisfaction_score]\n",
      "Index: []\n"
     ]
    }
   ],
   "source": [
    "#Identify and remove duplicate rows or columns to ensure data integrity\n",
    "duplicate = data1.duplicated(subset=data1[:], keep=False)\n",
    "\n",
    "duplicate1 = data1[data1.duplicated()]\n",
    "print(duplicate1) #No duplicate values across columns"
   ]
  },
  {
   "cell_type": "code",
   "execution_count": 7,
   "id": "12fdaad6",
   "metadata": {
    "execution": {
     "iopub.execute_input": "2025-05-29T16:22:27.004928Z",
     "iopub.status.busy": "2025-05-29T16:22:27.004591Z",
     "iopub.status.idle": "2025-05-29T16:22:27.012527Z",
     "shell.execute_reply": "2025-05-29T16:22:27.011570Z"
    },
    "papermill": {
     "duration": 0.019217,
     "end_time": "2025-05-29T16:22:27.014373",
     "exception": false,
     "start_time": "2025-05-29T16:22:26.995156",
     "status": "completed"
    },
    "tags": []
   },
   "outputs": [
    {
     "data": {
      "text/plain": [
       "age                                 int64\n",
       "gender                             object\n",
       "job_type                           object\n",
       "daily_social_media_time           float64\n",
       "social_platform_preference         object\n",
       "number_of_notifications             int64\n",
       "work_hours_per_day                float64\n",
       "perceived_productivity_score      float64\n",
       "actual_productivity_score         float64\n",
       "stress_level                      float64\n",
       "sleep_hours                       float64\n",
       "screen_time_before_sleep          float64\n",
       "breaks_during_work                  int64\n",
       "uses_focus_apps                      bool\n",
       "has_digital_wellbeing_enabled        bool\n",
       "coffee_consumption_per_day          int64\n",
       "days_feeling_burnout_per_month      int64\n",
       "weekly_offline_hours              float64\n",
       "job_satisfaction_score            float64\n",
       "dtype: object"
      ]
     },
     "execution_count": 7,
     "metadata": {},
     "output_type": "execute_result"
    }
   ],
   "source": [
    "#Check and correct data types\n",
    "data2 = data1.dtypes\n",
    "data2"
   ]
  },
  {
   "cell_type": "code",
   "execution_count": 8,
   "id": "5eb569a0",
   "metadata": {
    "execution": {
     "iopub.execute_input": "2025-05-29T16:22:27.033052Z",
     "iopub.status.busy": "2025-05-29T16:22:27.032720Z",
     "iopub.status.idle": "2025-05-29T16:22:27.042416Z",
     "shell.execute_reply": "2025-05-29T16:22:27.041254Z"
    },
    "papermill": {
     "duration": 0.021111,
     "end_time": "2025-05-29T16:22:27.044196",
     "exception": false,
     "start_time": "2025-05-29T16:22:27.023085",
     "status": "completed"
    },
    "tags": []
   },
   "outputs": [
    {
     "data": {
      "text/plain": [
       "Index(['age', 'number_of_notifications', 'breaks_during_work',\n",
       "       'coffee_consumption_per_day', 'days_feeling_burnout_per_month'],\n",
       "      dtype='object')"
      ]
     },
     "execution_count": 8,
     "metadata": {},
     "output_type": "execute_result"
    }
   ],
   "source": [
    "#Outlier detection and treatment, remove, cap, or transform outliers\n",
    "integer_columns = data1.select_dtypes(include=['int64']).columns\n",
    "integer_columns"
   ]
  },
  {
   "cell_type": "code",
   "execution_count": 9,
   "id": "63035959",
   "metadata": {
    "execution": {
     "iopub.execute_input": "2025-05-29T16:22:27.063175Z",
     "iopub.status.busy": "2025-05-29T16:22:27.062857Z",
     "iopub.status.idle": "2025-05-29T16:22:29.013227Z",
     "shell.execute_reply": "2025-05-29T16:22:29.012134Z"
    },
    "papermill": {
     "duration": 1.962085,
     "end_time": "2025-05-29T16:22:29.015095",
     "exception": false,
     "start_time": "2025-05-29T16:22:27.053010",
     "status": "completed"
    },
    "tags": []
   },
   "outputs": [
    {
     "name": "stdout",
     "output_type": "stream",
     "text": [
      "AGE COLUMN: minimum age= 18 median age= 41.0 maximum age= 65\n",
      "NOTIFICATION COLUMN: minimum notification= 32 median_notification= 60.0 maximum_notification= 90\n",
      "BREAK COLUMN: minimum break= 0 median break= 5.0 maximum break= 10\n",
      "COFFEE COLUMN: minimum coffee= 0 median coffee= 2.0 maximum coffee= 9\n",
      "BURNOUT COLUMN: minimum burnout= 0 median burnout= 16.0 maximum burnout= 31\n",
      "\n"
     ]
    },
    {
     "data": {
      "image/png": "[encoded data removed]",
      "text/plain": [
       "<Figure size 1500x700 with 15 Axes>"
      ]
     },
     "metadata": {},
     "output_type": "display_data"
    }
   ],
   "source": [
    "#Detect outliers by visualising each numerical column(s) using box plots\n",
    "fig, axes = plt.subplots(3,5, figsize=(15,7))\n",
    "axes = axes.flatten()\n",
    "plt.tight_layout(pad=3.0)\n",
    "\n",
    "#Title\n",
    "plt.suptitle('Outlier detection of numerical columns using box plots')\n",
    "\n",
    "sns.boxplot(x=data1['age'], ax=axes[0], color='red')\n",
    "sns.boxplot(x=data1['number_of_notifications'], ax=axes[1], color='green')\n",
    "sns.boxplot(x=data1['breaks_during_work'], ax=axes[2], color='blue')\n",
    "sns.boxplot(x=data1['coffee_consumption_per_day'], ax=axes[3], color='pink')\n",
    "sns.boxplot(x=data1['days_feeling_burnout_per_month'], ax=axes[4], color='purple')\n",
    "\n",
    "sns.boxplot(x=data1['daily_social_media_time'], ax=axes[5], color='red')\n",
    "sns.boxplot(x=data1['work_hours_per_day'], ax=axes[6], color='green')\n",
    "sns.boxplot(x=data1['perceived_productivity_score'], ax=axes[7], color='blue')\n",
    "sns.boxplot(x=data1['actual_productivity_score'], ax=axes[8], color='pink')\n",
    "sns.boxplot(x=data1['stress_level'], ax=axes[9], color='purple')\n",
    "sns.boxplot(x=data1['sleep_hours'], ax=axes[10], color='purple')\n",
    "sns.boxplot(x=data1['screen_time_before_sleep'], ax=axes[11], color='purple')\n",
    "sns.boxplot(x=data1['weekly_offline_hours'], ax=axes[12], color='purple')\n",
    "sns.boxplot(x=data1['job_satisfaction_score'], ax=axes[13], color='purple')\n",
    "\n",
    "#Age column\n",
    "minimum_age = data1['age'].min()\n",
    "maximum_age = data1['age'].max()\n",
    "median_age = data1['age'].median()\n",
    "\n",
    "#No of notifications column\n",
    "minimum_notification = data1['number_of_notifications'].min()\n",
    "maximum_notification = data1['number_of_notifications'].max()\n",
    "median_notification = data1['number_of_notifications'].median()\n",
    "\n",
    "#Breaks during work column\n",
    "minimum_break = data1['breaks_during_work'].min()\n",
    "maximum_break = data1['breaks_during_work'].max()\n",
    "median_break = data1['breaks_during_work'].median()\n",
    "\n",
    "#coffee_consumption_per_day\n",
    "minimum_coffee = data1['coffee_consumption_per_day'].min()\n",
    "maximum_coffee = data1['coffee_consumption_per_day'].max()\n",
    "median_coffee = data1['coffee_consumption_per_day'].median()\n",
    "\n",
    "#days_feeling_burnout_per_month\n",
    "minimum_burnout = data1['days_feeling_burnout_per_month'].min()\n",
    "maximum_burnout = data1['days_feeling_burnout_per_month'].max()\n",
    "median_burnout = data1['days_feeling_burnout_per_month'].median()\n",
    "\n",
    "print('AGE COLUMN:','minimum age=',minimum_age,'median age=',median_age, 'maximum age=', maximum_age)\n",
    "print('NOTIFICATION COLUMN:','minimum notification=',minimum_notification,'median_notification=',median_notification, 'maximum_notification=', maximum_notification)\n",
    "print('BREAK COLUMN:','minimum break=',minimum_break,'median break=',median_break, 'maximum break=', maximum_break)\n",
    "print('COFFEE COLUMN:','minimum coffee=',minimum_coffee,'median coffee=',median_coffee, 'maximum coffee=', maximum_coffee)\n",
    "print('BURNOUT COLUMN:','minimum burnout=',minimum_burnout,'median burnout=',median_burnout, 'maximum burnout=', maximum_burnout)\n",
    "print()"
   ]
  },
  {
   "cell_type": "code",
   "execution_count": 10,
   "id": "f9c2b292",
   "metadata": {
    "execution": {
     "iopub.execute_input": "2025-05-29T16:22:29.037309Z",
     "iopub.status.busy": "2025-05-29T16:22:29.036921Z",
     "iopub.status.idle": "2025-05-29T16:22:29.044552Z",
     "shell.execute_reply": "2025-05-29T16:22:29.043632Z"
    },
    "papermill": {
     "duration": 0.020368,
     "end_time": "2025-05-29T16:22:29.046245",
     "exception": false,
     "start_time": "2025-05-29T16:22:29.025877",
     "status": "completed"
    },
    "tags": []
   },
   "outputs": [
    {
     "data": {
      "text/plain": [
       "Index(['daily_social_media_time', 'work_hours_per_day',\n",
       "       'perceived_productivity_score', 'actual_productivity_score',\n",
       "       'stress_level', 'sleep_hours', 'screen_time_before_sleep',\n",
       "       'weekly_offline_hours', 'job_satisfaction_score'],\n",
       "      dtype='object')"
      ]
     },
     "execution_count": 10,
     "metadata": {},
     "output_type": "execute_result"
    }
   ],
   "source": [
    "#Displaying float columns\n",
    "float_columns = data1.select_dtypes(include=['float64']).columns\n",
    "float_columns"
   ]
  },
  {
   "cell_type": "code",
   "execution_count": 11,
   "id": "1bf35af8",
   "metadata": {
    "execution": {
     "iopub.execute_input": "2025-05-29T16:22:29.067849Z",
     "iopub.status.busy": "2025-05-29T16:22:29.067476Z",
     "iopub.status.idle": "2025-05-29T16:22:29.075279Z",
     "shell.execute_reply": "2025-05-29T16:22:29.074237Z"
    },
    "papermill": {
     "duration": 0.020585,
     "end_time": "2025-05-29T16:22:29.077103",
     "exception": false,
     "start_time": "2025-05-29T16:22:29.056518",
     "status": "completed"
    },
    "tags": []
   },
   "outputs": [
    {
     "data": {
      "text/plain": [
       "Index(['gender', 'job_type', 'social_platform_preference'], dtype='object')"
      ]
     },
     "execution_count": 11,
     "metadata": {},
     "output_type": "execute_result"
    }
   ],
   "source": [
    "#Displaying string columns\n",
    "string_columns = data1.select_dtypes(include=['object']).columns\n",
    "string_columns"
   ]
  },
  {
   "cell_type": "markdown",
   "id": "b5c2c89f",
   "metadata": {
    "papermill": {
     "duration": 0.010481,
     "end_time": "2025-05-29T16:22:29.100304",
     "exception": false,
     "start_time": "2025-05-29T16:22:29.089823",
     "status": "completed"
    },
    "tags": []
   },
   "source": [
    "**1. Measures of Central tendency**\n",
    "These indicates where the center or typical value for a probability distribution. They include Mean (Average), Median (Middle value), and Mode (frequently occuring value(s). *Questions*. 1.What is the average perceived and actual productivity score?. 2. What is the most common social platform among users?. 3. What is the median number of notifications per day? 4.  What is the average sleep duration for people with high vs. low stress?"
   ]
  },
  {
   "cell_type": "code",
   "execution_count": 12,
   "id": "09ef4e47",
   "metadata": {
    "execution": {
     "iopub.execute_input": "2025-05-29T16:22:29.121901Z",
     "iopub.status.busy": "2025-05-29T16:22:29.121571Z",
     "iopub.status.idle": "2025-05-29T16:22:29.619769Z",
     "shell.execute_reply": "2025-05-29T16:22:29.618684Z"
    },
    "papermill": {
     "duration": 0.510942,
     "end_time": "2025-05-29T16:22:29.621516",
     "exception": false,
     "start_time": "2025-05-29T16:22:29.110574",
     "status": "completed"
    },
    "tags": []
   },
   "outputs": [
    {
     "name": "stdout",
     "output_type": "stream",
     "text": [
      "average perceived prod score= 5.505522624120552\n",
      "average actual prod score= 4.944529790490153\n",
      "difference= 0.56\n"
     ]
    },
    {
     "data": {
      "image/png": "[encoded data removed]",
      "text/plain": [
       "<Figure size 600x300 with 1 Axes>"
      ]
     },
     "metadata": {},
     "output_type": "display_data"
    }
   ],
   "source": [
    "#q1.What is the average perceived and actual productivity score?.\n",
    "average_perceived_prod_score = data1['perceived_productivity_score'].mean()\n",
    "average_actual_prod_score = data1['actual_productivity_score'].mean()\n",
    "print('average perceived prod score=',average_perceived_prod_score)\n",
    "print('average actual prod score=', average_actual_prod_score )\n",
    "\n",
    "#Calculating the difference of the means\n",
    "diff = round(abs(average_perceived_prod_score - average_actual_prod_score),2)\n",
    "print('difference=', diff)\n",
    "#Visualising the mean\n",
    "df_melted = data1[['perceived_productivity_score', 'actual_productivity_score']].melt(\n",
    "    var_name='Productivity Type',\n",
    "    value_name='Score'\n",
    ")\n",
    "\n",
    "# Plotting\n",
    "plt.figure(figsize=(6, 3))\n",
    "plt.title('Average Perceived and Actual Productivity Scores')\n",
    "\n",
    "sns.barplot(x='Productivity Type', y='Score', data=df_melted, estimator='mean', palette='Set2')\n",
    "plt.ylabel('Mean Score')\n",
    "plt.xlabel('Productivity Type')\n",
    "plt.tight_layout()\n",
    "plt.show() "
   ]
  },
  {
   "cell_type": "markdown",
   "id": "05e70bdc",
   "metadata": {
    "papermill": {
     "duration": 0.010817,
     "end_time": "2025-05-29T16:22:29.643333",
     "exception": false,
     "start_time": "2025-05-29T16:22:29.632516",
     "status": "completed"
    },
    "tags": []
   },
   "source": [
    "**Explanation**\n",
    "The average perceived productivity score is greater than average actual productivity score. This means that social media users tend to overestimate their own productivity."
   ]
  },
  {
   "cell_type": "code",
   "execution_count": 13,
   "id": "b8780dd1",
   "metadata": {
    "execution": {
     "iopub.execute_input": "2025-05-29T16:22:29.667434Z",
     "iopub.status.busy": "2025-05-29T16:22:29.667133Z",
     "iopub.status.idle": "2025-05-29T16:22:29.785570Z",
     "shell.execute_reply": "2025-05-29T16:22:29.784286Z"
    },
    "papermill": {
     "duration": 0.132566,
     "end_time": "2025-05-29T16:22:29.787349",
     "exception": false,
     "start_time": "2025-05-29T16:22:29.654783",
     "status": "completed"
    },
    "tags": []
   },
   "outputs": [
    {
     "name": "stdout",
     "output_type": "stream",
     "text": [
      "social_platform_preference\n",
      "TikTok       3497\n",
      "Twitter      3436\n",
      "Instagram    3401\n",
      "Telegram     3375\n",
      "Facebook     3365\n",
      "Name: count, dtype: int64\n"
     ]
    },
    {
     "data": {
      "image/png": "[encoded data removed]",
      "text/plain": [
       "<Figure size 800x400 with 1 Axes>"
      ]
     },
     "metadata": {},
     "output_type": "display_data"
    }
   ],
   "source": [
    "#q2. What is the most common social media platform among users?\n",
    "platform = data1['social_platform_preference'].unique()\n",
    "platforms = data1['social_platform_preference'].value_counts()\n",
    "print(platforms)\n",
    "\n",
    "#Visualising in pie chart\n",
    "plt.figure(figsize=(8,4))\n",
    "\n",
    "#Distribution of social media usage\n",
    "palette_color = sns.color_palette('bright')\n",
    "plt.pie(platforms, labels=['TikTok','Twitter','Instagram','Telegram','Facebook'], colors = palette_color, autopct='%.3f%%')\n",
    "plt.show()"
   ]
  },
  {
   "cell_type": "markdown",
   "id": "5ea69332",
   "metadata": {
    "papermill": {
     "duration": 0.013053,
     "end_time": "2025-05-29T16:22:29.813248",
     "exception": false,
     "start_time": "2025-05-29T16:22:29.800195",
     "status": "completed"
    },
    "tags": []
   },
   "source": [
    "**Explanation**\n",
    "Tiktok is the most common/preferred social media platform among users."
   ]
  },
  {
   "cell_type": "code",
   "execution_count": 14,
   "id": "bc6ed984",
   "metadata": {
    "execution": {
     "iopub.execute_input": "2025-05-29T16:22:29.840156Z",
     "iopub.status.busy": "2025-05-29T16:22:29.839812Z",
     "iopub.status.idle": "2025-05-29T16:22:30.128755Z",
     "shell.execute_reply": "2025-05-29T16:22:30.127688Z"
    },
    "papermill": {
     "duration": 0.304902,
     "end_time": "2025-05-29T16:22:30.130337",
     "exception": false,
     "start_time": "2025-05-29T16:22:29.825435",
     "status": "completed"
    },
    "tags": []
   },
   "outputs": [
    {
     "name": "stdout",
     "output_type": "stream",
     "text": [
      "minimum= 32 maximum = 90\n",
      "The standard deviation= 7.788586599388393\n",
      "The mean= 59.974288391706686 The median= 60.0\n"
     ]
    },
    {
     "name": "stderr",
     "output_type": "stream",
     "text": [
      "/usr/local/lib/python3.11/dist-packages/seaborn/_oldcore.py:1119: FutureWarning: use_inf_as_na option is deprecated and will be removed in a future version. Convert inf values to NaN before operating instead.\n",
      "  with pd.option_context('mode.use_inf_as_na', True):\n"
     ]
    },
    {
     "data": {
      "text/plain": [
       "<Axes: title={'center': 'Distribution of the number of notifications'}, xlabel='number_of_notifications', ylabel='Count'>"
      ]
     },
     "execution_count": 14,
     "metadata": {},
     "output_type": "execute_result"
    },
    {
     "data": {
      "image/png": "[encoded data removed]",
      "text/plain": [
       "<Figure size 800x400 with 1 Axes>"
      ]
     },
     "metadata": {},
     "output_type": "display_data"
    }
   ],
   "source": [
    "#q3. What is the median number of notifications per day?\n",
    "notifications = data1['number_of_notifications']\n",
    "median = notifications.median()\n",
    "minimum = notifications.min()\n",
    "maximum = notifications.max()\n",
    "print('minimum=', minimum, 'maximum =', maximum)\n",
    "standard_deviation = notifications.std()\n",
    "print('The standard deviation=',standard_deviation)\n",
    "mean = notifications.mean()\n",
    "print('The mean=',mean, 'The median=', median)\n",
    "\n",
    "\n",
    "plt.figure(figsize=(8,4))\n",
    "plt.title('Distribution of the number of notifications')\n",
    "\n",
    "sns.histplot(notifications, kde=False, bins=20)"
   ]
  },
  {
   "cell_type": "markdown",
   "id": "4be4284c",
   "metadata": {
    "papermill": {
     "duration": 0.012755,
     "end_time": "2025-05-29T16:22:30.156289",
     "exception": false,
     "start_time": "2025-05-29T16:22:30.143534",
     "status": "completed"
    },
    "tags": []
   },
   "source": [
    "**Explanation**\n",
    "The median number of notifications is 60 and the mean is 59.97, therefore, on average users receive about 60 notifications per day. "
   ]
  },
  {
   "cell_type": "code",
   "execution_count": 15,
   "id": "791526b9",
   "metadata": {
    "execution": {
     "iopub.execute_input": "2025-05-29T16:22:30.183174Z",
     "iopub.status.busy": "2025-05-29T16:22:30.182844Z",
     "iopub.status.idle": "2025-05-29T16:22:30.375681Z",
     "shell.execute_reply": "2025-05-29T16:22:30.374330Z"
    },
    "papermill": {
     "duration": 0.208512,
     "end_time": "2025-05-29T16:22:30.377311",
     "exception": false,
     "start_time": "2025-05-29T16:22:30.168799",
     "status": "completed"
    },
    "tags": []
   },
   "outputs": [
    {
     "name": "stdout",
     "output_type": "stream",
     "text": [
      "Average sleep duration for high stress= 6.512738317663982 Average sleep duration for low stress= 6.487356346141169\n"
     ]
    },
    {
     "data": {
      "image/png": "[encoded data removed]",
      "text/plain": [
       "<Figure size 800x400 with 1 Axes>"
      ]
     },
     "metadata": {},
     "output_type": "display_data"
    }
   ],
   "source": [
    "#q4. What is the average sleep duration for people with high vs. low stress?\n",
    "data2 = data1.loc[:,['stress_level', 'sleep_hours']]\n",
    "low_stress = data2.loc[data2.stress_level ==1.0]\n",
    "high_stress = data2.loc[data2.stress_level ==10.0]\n",
    "\n",
    "Avgsleepdur_low_stress = low_stress['sleep_hours'].mean()\n",
    "Avgsleepdur_high_stress = high_stress['sleep_hours'].mean()\n",
    "\n",
    "frame = {\n",
    "    'low stress':[Avgsleepdur_low_stress],\n",
    "    'High stress':[Avgsleepdur_high_stress]\n",
    "}\n",
    "\n",
    "df = pd.DataFrame(frame)\n",
    "print('Average sleep duration for high stress=',Avgsleepdur_high_stress, 'Average sleep duration for low stress=',Avgsleepdur_low_stress )\n",
    "\n",
    "df_melted = df.melt(var_name='Stress Level', value_name='Average Sleep Duration')\n",
    "#Visualising average stress levels for people with high vs. low stress levels\n",
    "plt.figure(figsize=(8,4))\n",
    "plt.title('Average sleep duration for people with high vs. low stress levels')\n",
    "\n",
    "sns.barplot(data=df_melted, x='Stress Level', y='Average Sleep Duration', palette='Set2')\n",
    "plt.ylabel('Average hours of Sleep')\n",
    "plt.tight_layout()\n",
    "plt.show()"
   ]
  },
  {
   "cell_type": "markdown",
   "id": "b6abba68",
   "metadata": {
    "papermill": {
     "duration": 0.012637,
     "end_time": "2025-05-29T16:22:30.403792",
     "exception": false,
     "start_time": "2025-05-29T16:22:30.391155",
     "status": "completed"
    },
    "tags": []
   },
   "source": [
    "**Explanation**\n",
    "Average sleep duration for *high stress people= 6.512738317663982* and Average sleep duration for *low stress people= 6.487356346141169*"
   ]
  },
  {
   "cell_type": "markdown",
   "id": "7850b0f4",
   "metadata": {
    "papermill": {
     "duration": 0.013128,
     "end_time": "2025-05-29T16:22:30.489150",
     "exception": false,
     "start_time": "2025-05-29T16:22:30.476022",
     "status": "completed"
    },
    "tags": []
   },
   "source": [
    "**2.\tMeasures of Variability (Spread)**\n",
    "Quantify the spread or dispersion of data points in a dataset.They include Range-*difference between maximum and minimum value(s)*, Inter quartile range(IQR) -*difference between upper quartile(Q3) and lower quartile(Q1)*, Variance-*Average squared deviation from the mean*, Standard deviation-*Square root of the variance*. *Question*.1.How variable is coffee consumption among different job types? 2. What is the range and standard deviation in daily social media usage? 3. How much variability in work hours exists across genders?"
   ]
  },
  {
   "cell_type": "code",
   "execution_count": 16,
   "id": "a1d4c768",
   "metadata": {
    "execution": {
     "iopub.execute_input": "2025-05-29T16:22:30.518016Z",
     "iopub.status.busy": "2025-05-29T16:22:30.517347Z",
     "iopub.status.idle": "2025-05-29T16:22:30.545858Z",
     "shell.execute_reply": "2025-05-29T16:22:30.544712Z"
    },
    "papermill": {
     "duration": 0.045115,
     "end_time": "2025-05-29T16:22:30.547298",
     "exception": false,
     "start_time": "2025-05-29T16:22:30.502183",
     "status": "completed"
    },
    "tags": []
   },
   "outputs": [
    {
     "name": "stdout",
     "output_type": "stream",
     "text": [
      "Unemployed std:1.3136996446253377\n",
      " Health std:1.3686303267848654\n",
      " Education std:1.3533873932170903\n",
      " IT std:1.36512265079779\n",
      " Student std:1.2901681532983107\n",
      " Finance std:1.319558111091669\n"
     ]
    }
   ],
   "source": [
    "#q1. How variable is coffee consumption among different job types?\n",
    "Unemployed = data1.loc[(data1.job_type =='Unemployed') & (data1.coffee_consumption_per_day)]\n",
    "Health = data1.loc[(data1.job_type =='Health') & (data1.coffee_consumption_per_day)]\n",
    "Education = data1.loc[(data1.job_type =='Education') & (data1.coffee_consumption_per_day)]\n",
    "IT = data1.loc[(data1.job_type =='IT') & (data1.coffee_consumption_per_day)]\n",
    "Student = data1.loc[(data1.job_type =='Student') & (data1.coffee_consumption_per_day)]\n",
    "Finance = data1.loc[(data1.job_type =='Finance') & (data1.coffee_consumption_per_day)]\n",
    "\n",
    "Unemployed1 = Unemployed.loc[:,['coffee_consumption_per_day', 'job_type']]\n",
    "Health1 = Health.loc[:,['coffee_consumption_per_day', 'job_type']]\n",
    "Education1 = Education.loc[:,['coffee_consumption_per_day', 'job_type']]\n",
    "IT1 = IT.loc[:,['coffee_consumption_per_day', 'job_type']]\n",
    "Student1 = Student.loc[:,['coffee_consumption_per_day', 'job_type']]\n",
    "Finance1 = Finance.loc[:,['coffee_consumption_per_day', 'job_type']]\n",
    "\n",
    "#Standard deviations\n",
    "std_Unemplod = Unemployed1['coffee_consumption_per_day'].std()\n",
    "std_Health = Health1['coffee_consumption_per_day'].std()\n",
    "std_Education = Education1['coffee_consumption_per_day'].std()\n",
    "std_IT = IT1['coffee_consumption_per_day'].std()\n",
    "std_Student = Student1['coffee_consumption_per_day'].std()\n",
    "std_Finance = Finance1['coffee_consumption_per_day'].std()\n",
    "\n",
    "print(f'Unemployed std:{std_Unemplod}\\n Health std:{std_Health}\\n Education std:{std_Education}\\n IT std:{std_IT}\\n Student std:{std_Student}\\n Finance std:{std_Finance}')"
   ]
  },
  {
   "cell_type": "markdown",
   "id": "d30a5909",
   "metadata": {
    "papermill": {
     "duration": 0.013329,
     "end_time": "2025-05-29T16:22:30.573873",
     "exception": false,
     "start_time": "2025-05-29T16:22:30.560544",
     "status": "completed"
    },
    "tags": []
   },
   "source": [
    "**Interpretation**\n",
    "\n",
    "1. The Health, IT, and Education sectors show the highest variability in coffee consumption, with standard deviations slightly above 1.35.\n",
    "\n",
    "-This suggests that people in these fields have diverse coffee habits, some may drink a lot, others very little.\n",
    "\n",
    "2. Finance and Unemployed individuals show moderate variability, slightly lower than the above groups.\n",
    "\n",
    "-Their coffee habits are somewhat more consistent across individuals.\n",
    "\n",
    "3. Students show the least variability in coffee consumption.\n",
    "\n",
    "-This may indicate more uniform habits, perhaps due to shared routines or limited budgets."
   ]
  },
  {
   "cell_type": "code",
   "execution_count": 17,
   "id": "7bb33083",
   "metadata": {
    "execution": {
     "iopub.execute_input": "2025-05-29T16:22:30.602442Z",
     "iopub.status.busy": "2025-05-29T16:22:30.602089Z",
     "iopub.status.idle": "2025-05-29T16:22:30.609263Z",
     "shell.execute_reply": "2025-05-29T16:22:30.607940Z"
    },
    "papermill": {
     "duration": 0.023508,
     "end_time": "2025-05-29T16:22:30.611326",
     "exception": false,
     "start_time": "2025-05-29T16:22:30.587818",
     "status": "completed"
    },
    "tags": []
   },
   "outputs": [
    {
     "name": "stdout",
     "output_type": "stream",
     "text": [
      "Range of social media usage=17.817948297796974\n",
      " Standard deviation of social media usage=2.0802566756073033\n"
     ]
    }
   ],
   "source": [
    "#q2. What is the range and standard deviation in daily social media usage?\n",
    "social_usage = data1['daily_social_media_time']\n",
    "#Range\n",
    "Range = social_usage.max() - social_usage.min()\n",
    "std = social_usage.std()\n",
    "print(f'Range of social media usage={Range}\\n Standard deviation of social media usage={std}')"
   ]
  },
  {
   "cell_type": "markdown",
   "id": "4fbcca37",
   "metadata": {
    "papermill": {
     "duration": 0.013151,
     "end_time": "2025-05-29T16:22:30.637952",
     "exception": false,
     "start_time": "2025-05-29T16:22:30.624801",
     "status": "completed"
    },
    "tags": []
   },
   "source": [
    "**Explanation**\n",
    "*Range*\n",
    "The person with the highest daily social media usage spent about 17.82 more hours per day than the person with the lowest usage.  This suggests there's a very wide spread in how much time different people spend on social media, some barely use it, while others might use it nearly all day.\n",
    "\n",
    "*Standard deviation*\n",
    "On average, individual social media usage values differ from the mean by about 2.08 hours. This suggests a moderate level of variability. While there's a wide overall range (17+ hours), most people’s usage probably clusters within a few hours of the average."
   ]
  },
  {
   "cell_type": "code",
   "execution_count": 18,
   "id": "8ef6136a",
   "metadata": {
    "execution": {
     "iopub.execute_input": "2025-05-29T16:22:30.665958Z",
     "iopub.status.busy": "2025-05-29T16:22:30.665633Z",
     "iopub.status.idle": "2025-05-29T16:22:30.682680Z",
     "shell.execute_reply": "2025-05-29T16:22:30.681673Z"
    },
    "papermill": {
     "duration": 0.033254,
     "end_time": "2025-05-29T16:22:30.684382",
     "exception": false,
     "start_time": "2025-05-29T16:22:30.651128",
     "status": "completed"
    },
    "tags": []
   },
   "outputs": [
    {
     "name": "stdout",
     "output_type": "stream",
     "text": [
      "Male range=11.780022757861325\n",
      " Female range=11.862131060258001\n",
      " Other range=10.924208556062402\n",
      " Male std=2.014740570853737\n",
      " Female std=1.9734649258699042\n",
      " Other std=1.9455656275447286\n"
     ]
    }
   ],
   "source": [
    "#q3. How much variability in work hours exists across genders?\n",
    "data4 = data1.loc[:,['gender','work_hours_per_day']]\n",
    "Male = data4.loc[(data4.gender =='Male') & (data4.work_hours_per_day)]\n",
    "Female = data4.loc[(data4.gender =='Female') & (data4.work_hours_per_day)]\n",
    "Other = data4.loc[(data4.gender =='Other') & (data4.work_hours_per_day)]\n",
    "\n",
    "#Range\n",
    "Male_range = Male.work_hours_per_day.max() - Male.work_hours_per_day.min()\n",
    "Female_range = Female.work_hours_per_day.max() - Female.work_hours_per_day.min()\n",
    "Other_range = Other.work_hours_per_day.max() - Other.work_hours_per_day.min()\n",
    "\n",
    "#Standard deviation\n",
    "Male_std = Male.work_hours_per_day.std()\n",
    "Female_std = Female.work_hours_per_day.std()\n",
    "Other_std = Other.work_hours_per_day.std()\n",
    "\n",
    "print(f'Male range={Male_range}\\n Female range={Female_range}\\n Other range={Other_range}\\n Male std={Male_std}\\n Female std={Female_std}\\n Other std={Other_std}')"
   ]
  },
  {
   "cell_type": "markdown",
   "id": "aba6f498",
   "metadata": {
    "papermill": {
     "duration": 0.012969,
     "end_time": "2025-05-29T16:22:30.710802",
     "exception": false,
     "start_time": "2025-05-29T16:22:30.697833",
     "status": "completed"
    },
    "tags": []
   },
   "source": [
    "**Explanation**\n",
    "\n",
    "*Range*\n",
    "Female group has the highest range (≈11.86 hrs), slightly higher than males (≈11.78 hrs). Other gender group has the smallest range (≈10.92 hrs). All three gender groups show a similar maximum spread in work hours, about 11 to 12 hours between the most and least hours worked daily. This indicates wide variability across all genders.\n",
    "\n",
    "*Standard deviation*\n",
    "Male group has the highest standard deviation (2.015), followed by females (1.973), and others (1.946). While ranges are similar, males show slightly more day-to-day or person-to-person variability around the average number of work hours.\n",
    "Other gender group has the most consistent work hours, with the smallest deviation."
   ]
  },
  {
   "cell_type": "markdown",
   "id": "edf62c39",
   "metadata": {
    "papermill": {
     "duration": 0.013712,
     "end_time": "2025-05-29T16:22:30.737739",
     "exception": false,
     "start_time": "2025-05-29T16:22:30.724027",
     "status": "completed"
    },
    "tags": []
   },
   "source": [
    "**3.\tMeasures of Position**\n",
    "Describe the position of a data value within a dataset relative to other values. They include Percentiles- divide a ranked dataset into 100 equal parts, Quartiles - divide a dataset into four equal parts, Deciles - divide a dataset into ten equal parts. *Questions*. 1. What is the 25th, 50th, and 75th percentile of screen time before sleep? 2. Who are in the top 10% in productivity? 3. How many standard deviations is a user's productivity from the mean (Z-score)?"
   ]
  },
  {
   "cell_type": "code",
   "execution_count": 19,
   "id": "04ae4419",
   "metadata": {
    "execution": {
     "iopub.execute_input": "2025-05-29T16:22:30.768232Z",
     "iopub.status.busy": "2025-05-29T16:22:30.767300Z",
     "iopub.status.idle": "2025-05-29T16:22:30.777450Z",
     "shell.execute_reply": "2025-05-29T16:22:30.776372Z"
    },
    "papermill": {
     "duration": 0.027621,
     "end_time": "2025-05-29T16:22:30.779622",
     "exception": false,
     "start_time": "2025-05-29T16:22:30.752001",
     "status": "completed"
    },
    "tags": []
   },
   "outputs": [
    {
     "name": "stdout",
     "output_type": "stream",
     "text": [
      "Percentiles=0.25    0.526338\n",
      "0.50    1.010674\n",
      "0.75    1.473942\n",
      "Name: screen_time_before_sleep, dtype: float64\n"
     ]
    }
   ],
   "source": [
    "#q1. What is the 25th, 50th, and 75th percentile of screen time before sleep?\n",
    "percentiles = data1['screen_time_before_sleep'].quantile([0.25, 0.5, 0.75])\n",
    "print(f'Percentiles={percentiles}')"
   ]
  },
  {
   "cell_type": "code",
   "execution_count": 20,
   "id": "4aa8279b",
   "metadata": {
    "execution": {
     "iopub.execute_input": "2025-05-29T16:22:30.808385Z",
     "iopub.status.busy": "2025-05-29T16:22:30.807339Z",
     "iopub.status.idle": "2025-05-29T16:22:30.814325Z",
     "shell.execute_reply": "2025-05-29T16:22:30.813398Z"
    },
    "papermill": {
     "duration": 0.022784,
     "end_time": "2025-05-29T16:22:30.815900",
     "exception": false,
     "start_time": "2025-05-29T16:22:30.793116",
     "status": "completed"
    },
    "tags": []
   },
   "outputs": [
    {
     "name": "stdout",
     "output_type": "stream",
     "text": [
      "2.396519791920223\n"
     ]
    }
   ],
   "source": [
    "#q2. Who are in the top 10% in productivity?\n",
    "decile1 = data1['actual_productivity_score'].quantile(0.10)\n",
    "print(decile1)"
   ]
  },
  {
   "cell_type": "markdown",
   "id": "786aaf23",
   "metadata": {
    "papermill": {
     "duration": 0.014432,
     "end_time": "2025-05-29T16:22:30.844050",
     "exception": false,
     "start_time": "2025-05-29T16:22:30.829618",
     "status": "completed"
    },
    "tags": []
   },
   "source": [
    "**4.\tFrequency Distribution **\n",
    "\n",
    "Organize and summarize data by showing how often each value or category occurs in a dataset. Categorical, Counts."
   ]
  },
  {
   "cell_type": "code",
   "execution_count": 21,
   "id": "f0c35d41",
   "metadata": {
    "execution": {
     "iopub.execute_input": "2025-05-29T16:22:30.872017Z",
     "iopub.status.busy": "2025-05-29T16:22:30.871688Z",
     "iopub.status.idle": "2025-05-29T16:22:31.115108Z",
     "shell.execute_reply": "2025-05-29T16:22:31.113964Z"
    },
    "papermill": {
     "duration": 0.259446,
     "end_time": "2025-05-29T16:22:31.116821",
     "exception": false,
     "start_time": "2025-05-29T16:22:30.857375",
     "status": "completed"
    },
    "tags": []
   },
   "outputs": [
    {
     "data": {
      "text/plain": [
       "Text(0, 0.5, 'Count')"
      ]
     },
     "execution_count": 21,
     "metadata": {},
     "output_type": "execute_result"
    },
    {
     "data": {
      "image/png": "[encoded data removed]",
      "text/plain": [
       "<Figure size 800x400 with 1 Axes>"
      ]
     },
     "metadata": {},
     "output_type": "display_data"
    }
   ],
   "source": [
    "#q1. What’s the distribution of job types in the dataset?\n",
    "Job_types = data1['job_type'].unique()\n",
    "counts = data1['job_type'].value_counts()\n",
    "plt.figure(figsize=(8,4))\n",
    "plt.title('Distribution of job types')\n",
    "\n",
    "sns.barplot(x=Job_types, y=counts.values)\n",
    "plt.xlabel('Job types')\n",
    "plt.ylabel('Count')"
   ]
  },
  {
   "cell_type": "code",
   "execution_count": 22,
   "id": "09df16e7",
   "metadata": {
    "execution": {
     "iopub.execute_input": "2025-05-29T16:22:31.147124Z",
     "iopub.status.busy": "2025-05-29T16:22:31.146764Z",
     "iopub.status.idle": "2025-05-29T16:22:31.309824Z",
     "shell.execute_reply": "2025-05-29T16:22:31.308511Z"
    },
    "papermill": {
     "duration": 0.180511,
     "end_time": "2025-05-29T16:22:31.311425",
     "exception": false,
     "start_time": "2025-05-29T16:22:31.130914",
     "status": "completed"
    },
    "tags": []
   },
   "outputs": [
    {
     "name": "stdout",
     "output_type": "stream",
     "text": [
      "No of people using focus apps=uses_focus_apps\n",
      "True    5119\n",
      "Name: count, dtype: int64\n",
      " No of people not using focus apps=uses_focus_apps\n",
      "False    11955\n",
      "Name: count, dtype: int64\n"
     ]
    },
    {
     "data": {
      "image/png": "[encoded data removed]",
      "text/plain": [
       "<Figure size 640x480 with 1 Axes>"
      ]
     },
     "metadata": {},
     "output_type": "display_data"
    }
   ],
   "source": [
    "#q2. How many people use focus apps vs. don’t?\n",
    "use = data1.loc[(data1.uses_focus_apps ==True)]\n",
    "Not_use = data1.loc[(data1.uses_focus_apps ==False)]\n",
    "use1 = use['uses_focus_apps'].value_counts()\n",
    "use2 = Not_use['uses_focus_apps'].value_counts()\n",
    "print(f'No of people using focus apps={use1}\\n No of people not using focus apps={use2}')\n",
    "\n",
    "# Combine counts into a new DataFrame for plotting\n",
    "df_plot = pd.DataFrame({\n",
    "    'Usage': ['True', 'False'],\n",
    "    'Count': [use1.get(True, 0), use2.get(False, 0)]\n",
    "})\n",
    "\n",
    "# Plot\n",
    "sns.barplot(x='Usage', y='Count', data=df_plot)\n",
    "plt.title('Focus App Usage Distribution')\n",
    "plt.ylabel('Number of Users')\n",
    "plt.xlabel('Usage of focus apps')\n",
    "plt.show()"
   ]
  },
  {
   "cell_type": "markdown",
   "id": "2d35abe4",
   "metadata": {
    "papermill": {
     "duration": 0.014454,
     "end_time": "2025-05-29T16:22:31.341066",
     "exception": false,
     "start_time": "2025-05-29T16:22:31.326612",
     "status": "completed"
    },
    "tags": []
   },
   "source": [
    "**Explanation**\n",
    "\n",
    "There is a significantly larger number of people not using focus apps than those who are.\n"
   ]
  },
  {
   "cell_type": "code",
   "execution_count": 23,
   "id": "36d523e3",
   "metadata": {
    "execution": {
     "iopub.execute_input": "2025-05-29T16:22:31.372909Z",
     "iopub.status.busy": "2025-05-29T16:22:31.372331Z",
     "iopub.status.idle": "2025-05-29T16:22:31.663651Z",
     "shell.execute_reply": "2025-05-29T16:22:31.662795Z"
    },
    "papermill": {
     "duration": 0.309219,
     "end_time": "2025-05-29T16:22:31.665206",
     "exception": false,
     "start_time": "2025-05-29T16:22:31.355987",
     "status": "completed"
    },
    "tags": []
   },
   "outputs": [
    {
     "name": "stdout",
     "output_type": "stream",
     "text": [
      "No of times they are reported=stress_level\n",
      "1.0     1699\n",
      "2.0     1664\n",
      "3.0     1713\n",
      "4.0     1717\n",
      "5.0     1668\n",
      "6.0     1774\n",
      "7.0     1729\n",
      "8.0     1730\n",
      "9.0     1639\n",
      "10.0    1741\n",
      "Name: count, dtype: int64\n"
     ]
    },
    {
     "data": {
      "image/png": "[encoded data removed]",
      "text/plain": [
       "<Figure size 1000x800 with 1 Axes>"
      ]
     },
     "metadata": {},
     "output_type": "display_data"
    }
   ],
   "source": [
    "#q3. How often is each stress level (1–10) reported?\n",
    "reported = data1['stress_level'].value_counts().sort_index()\n",
    "reported1 = data1['stress_level'].unique()\n",
    "reported2 = data1['stress_level'].value_counts()\n",
    "plt.figure(figsize=(10,8))\n",
    "plt.title('No of times stress levels are reported')\n",
    "\n",
    "sns.barplot(x=reported1, y=reported2.values)\n",
    "plt.xlabel('Stress levels')\n",
    "plt.ylabel('No of times they are reported')\n",
    "\n",
    "print(f'No of times they are reported={reported}')"
   ]
  },
  {
   "cell_type": "markdown",
   "id": "f2fb87d1",
   "metadata": {
    "papermill": {
     "duration": 0.01473,
     "end_time": "2025-05-29T16:22:31.695659",
     "exception": false,
     "start_time": "2025-05-29T16:22:31.680929",
     "status": "completed"
    },
    "tags": []
   },
   "source": [
    "**5.\tShape of Distribution**\n",
    "\n",
    "This describes how the dataset is distributed. They include *Skweness*- Describes the asymmetry of the a distribution around its mean ,*Zero Skewness (Symmetrical Distribution)=0*:The left and right sides of the distribution are mirror images; Mean ≈ Median ≈ Mode, Example: A perfect normal distribution. *Positive Skew*>0: The tail is longer on the right;Most values are concentrated on the left. *Negative Skew*<0: The tail is longer on the left;Most values are concentrated on the right;Mean < Median < Mode. \n",
    "\n",
    "*Kurtosis*\n",
    "Describes the tailedness of a distribution, in other words, how heavy or light the tails are compared to a normal distribution. Types of Kurtosis, *Mesokurtic (Kurtosis ≈ 3)*- Normal distribution;Moderate tails i.e Bell-shaped curve. *Leptokurtic (Kurtosis > 3)*- Heavy tails and sharp peak;More outliers than a normal distribution. *Platykurtic (Kurtosis < 3)*- Light tails and flatter peak, Fewer outliers i.e Uniform distribution.\n",
    "\n",
    "*Questions*\n",
    "Is the distribution of social media time skewed?.Does the distribution of burnout days show signs of outliers or heavy tails?What’s the distribution shape of sleep hours?"
   ]
  },
  {
   "cell_type": "code",
   "execution_count": 24,
   "id": "d845e69e",
   "metadata": {
    "execution": {
     "iopub.execute_input": "2025-05-29T16:22:31.728743Z",
     "iopub.status.busy": "2025-05-29T16:22:31.728185Z",
     "iopub.status.idle": "2025-05-29T16:22:32.123284Z",
     "shell.execute_reply": "2025-05-29T16:22:32.122247Z"
    },
    "papermill": {
     "duration": 0.414424,
     "end_time": "2025-05-29T16:22:32.125027",
     "exception": false,
     "start_time": "2025-05-29T16:22:31.710603",
     "status": "completed"
    },
    "tags": []
   },
   "outputs": [
    {
     "name": "stdout",
     "output_type": "stream",
     "text": [
      "Skweness: 1.2338921884646936\n",
      "True\n",
      "Mean: 3.122574768195546 Median: 3.0364248184021982\n"
     ]
    },
    {
     "name": "stderr",
     "output_type": "stream",
     "text": [
      "/usr/local/lib/python3.11/dist-packages/seaborn/_oldcore.py:1119: FutureWarning: use_inf_as_na option is deprecated and will be removed in a future version. Convert inf values to NaN before operating instead.\n",
      "  with pd.option_context('mode.use_inf_as_na', True):\n"
     ]
    },
    {
     "data": {
      "image/png": "[encoded data removed]",
      "text/plain": [
       "<Figure size 640x480 with 1 Axes>"
      ]
     },
     "metadata": {},
     "output_type": "display_data"
    }
   ],
   "source": [
    "#q1. Is the distribution of social media time skewed?\n",
    "Smedia_time = data1['daily_social_media_time'].skew()\n",
    "print('Skweness:', Smedia_time)\n",
    "mean = data1['daily_social_media_time'].mean()\n",
    "median = data1['daily_social_media_time'].median()\n",
    "print(mean > median)\n",
    "print('Mean:',mean, 'Median:',median)\n",
    "\n",
    "sns.histplot(data1['daily_social_media_time'], kde=True, bins=10, color='skyblue')\n",
    "plt.title('Distribution of daily social media time')\n",
    "plt.ylabel('Frequency')\n",
    "plt.show()"
   ]
  },
  {
   "cell_type": "markdown",
   "id": "7af96b35",
   "metadata": {
    "papermill": {
     "duration": 0.016293,
     "end_time": "2025-05-29T16:22:32.158252",
     "exception": false,
     "start_time": "2025-05-29T16:22:32.141959",
     "status": "completed"
    },
    "tags": []
   },
   "source": [
    "**Explanation**\n",
    "\n",
    "It is *positively skewed*: there's a long tail extending to the right toward 10+ hours, indicating a small number of people who use social media excessively. This means some users spend a significantly higher amount of time on social media, pulling the tail to the right. Most people spend a moderate amount of time on social media, but a few heavy users increase the average and stretch the distribution rightward."
   ]
  },
  {
   "cell_type": "code",
   "execution_count": 25,
   "id": "b44ee933",
   "metadata": {
    "execution": {
     "iopub.execute_input": "2025-05-29T16:22:32.191265Z",
     "iopub.status.busy": "2025-05-29T16:22:32.190961Z",
     "iopub.status.idle": "2025-05-29T16:22:32.525750Z",
     "shell.execute_reply": "2025-05-29T16:22:32.524751Z"
    },
    "papermill": {
     "duration": 0.353338,
     "end_time": "2025-05-29T16:22:32.527478",
     "exception": false,
     "start_time": "2025-05-29T16:22:32.174140",
     "status": "completed"
    },
    "tags": []
   },
   "outputs": [
    {
     "name": "stderr",
     "output_type": "stream",
     "text": [
      "/usr/local/lib/python3.11/dist-packages/seaborn/_oldcore.py:1119: FutureWarning: use_inf_as_na option is deprecated and will be removed in a future version. Convert inf values to NaN before operating instead.\n",
      "  with pd.option_context('mode.use_inf_as_na', True):\n"
     ]
    },
    {
     "data": {
      "image/png": "[encoded data removed]",
      "text/plain": [
       "<Figure size 640x480 with 1 Axes>"
      ]
     },
     "metadata": {},
     "output_type": "display_data"
    }
   ],
   "source": [
    "#q2. Does the distribution of burnout days show signs of outliers or heavy tails?\n",
    "from scipy.stats import kurtosis\n",
    "kurt =  kurtosis(data1['days_feeling_burnout_per_month'], fisher=False, bias=False)\n",
    "\n",
    "sns.histplot(data1['days_feeling_burnout_per_month'], kde=True, bins=20, color='salmon')\n",
    "plt.title('Distribution of Burnout Days')\n",
    "plt.xlabel('Days Feeling Burnout Per Month')\n",
    "plt.ylabel('Frequency')\n",
    "plt.show()"
   ]
  },
  {
   "cell_type": "markdown",
   "id": "985f5ce0",
   "metadata": {
    "papermill": {
     "duration": 0.016559,
     "end_time": "2025-05-29T16:22:32.560673",
     "exception": false,
     "start_time": "2025-05-29T16:22:32.544114",
     "status": "completed"
    },
    "tags": []
   },
   "source": [
    "**Explanation**\n",
    "\n",
    "The distribution does not show heavy tails or many outliers.The kurtosis value suggests a flatter, lighter-tailed distribution."
   ]
  },
  {
   "cell_type": "code",
   "execution_count": 26,
   "id": "ebc186c2",
   "metadata": {
    "execution": {
     "iopub.execute_input": "2025-05-29T16:22:32.595600Z",
     "iopub.status.busy": "2025-05-29T16:22:32.595250Z",
     "iopub.status.idle": "2025-05-29T16:22:33.033664Z",
     "shell.execute_reply": "2025-05-29T16:22:33.032632Z"
    },
    "papermill": {
     "duration": 0.458198,
     "end_time": "2025-05-29T16:22:33.035341",
     "exception": false,
     "start_time": "2025-05-29T16:22:32.577143",
     "status": "completed"
    },
    "tags": []
   },
   "outputs": [
    {
     "name": "stderr",
     "output_type": "stream",
     "text": [
      "/usr/local/lib/python3.11/dist-packages/seaborn/_oldcore.py:1119: FutureWarning: use_inf_as_na option is deprecated and will be removed in a future version. Convert inf values to NaN before operating instead.\n",
      "  with pd.option_context('mode.use_inf_as_na', True):\n"
     ]
    },
    {
     "data": {
      "image/png": "[encoded data removed]",
      "text/plain": [
       "<Figure size 640x480 with 1 Axes>"
      ]
     },
     "metadata": {},
     "output_type": "display_data"
    }
   ],
   "source": [
    "#q3. What’s the distribution shape of sleep hours\n",
    "dist = data1['sleep_hours']\n",
    "\n",
    "sns.histplot(data1['sleep_hours'], kde=True, bins=10, color='blue')\n",
    "plt.title('distribution shape of sleep hours')\n",
    "plt.ylabel('Frequency')\n",
    "plt.show()"
   ]
  },
  {
   "cell_type": "markdown",
   "id": "fc07b182",
   "metadata": {
    "papermill": {
     "duration": 0.017177,
     "end_time": "2025-05-29T16:22:33.070639",
     "exception": false,
     "start_time": "2025-05-29T16:22:33.053462",
     "status": "completed"
    },
    "tags": []
   },
   "source": [
    "**Interpretation**\n",
    "\n",
    "-The histogram is symmetric and bell-shaped.\n",
    "-It is centered around 6 to 7 hours, with the frequency tapering off equally on both sides.\n",
    "\n",
    "-The left and right tails appear nearly equal.\n",
    "\n",
    "-There are no extreme outliers or significant skewness.\n",
    "\n",
    "The distribution of sleep hours follows an approximately normal distribution, as indicated by its symmetric bell-shaped histogram. Most individuals get around 6 to 7 hours of sleep, with relatively few sleeping much more or much less.\n"
   ]
  }
 ],
 "metadata": {
  "kaggle": {
   "accelerator": "none",
   "dataSources": [
    {
     "datasetId": 7430411,
     "sourceId": 11827999,
     "sourceType": "datasetVersion"
    }
   ],
   "dockerImageVersionId": 31040,
   "isGpuEnabled": false,
   "isInternetEnabled": false,
   "language": "python",
   "sourceType": "notebook"
  },
  "kernelspec": {
   "display_name": "Python 3",
   "language": "python",
   "name": "python3"
  },
  "language_info": {
   "codemirror_mode": {
    "name": "ipython",
    "version": 3
   },
   "file_extension": ".py",
   "mimetype": "text/x-python",
   "name": "python",
   "nbconvert_exporter": "python",
   "pygments_lexer": "ipython3",
   "version": "3.11.11"
  },
  "papermill": {
   "default_parameters": {},
   "duration": 18.181978,
   "end_time": "2025-05-29T16:22:33.809926",
   "environment_variables": {},
   "exception": null,
   "input_path": "__notebook__.ipynb",
   "output_path": "__notebook__.ipynb",
   "parameters": {},
   "start_time": "2025-05-29T16:22:15.627948",
   "version": "2.6.0"
  }
 },
 "nbformat": 4,
 "nbformat_minor": 5
}
